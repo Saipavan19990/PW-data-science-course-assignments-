{
 "cells": [
  {
   "cell_type": "code",
   "execution_count": 31,
   "id": "cdb28975-fbc4-456e-bb40-e5e95a85f13a",
   "metadata": {},
   "outputs": [],
   "source": [
    "#19th august assignment "
   ]
  },
  {
   "cell_type": "markdown",
   "id": "37f1c365-dcae-4231-be74-e7fdc1e346b1",
   "metadata": {},
   "source": [
    "---------------I . PYTHON BASICS VARIABLE----------------"
   ]
  },
  {
   "cell_type": "markdown",
   "id": "bef2328a-a952-439c-9b46-ec2a1ecf2226",
   "metadata": {},
   "source": [
    "\"\"\"Q1 .  \n",
    "Declare two variables, `x` and `y`, and assign them integer values.\n",
    "Swap thevalues of these variables without using any temporary variable.\"\"\""
   ]
  },
  {
   "cell_type": "code",
   "execution_count": 23,
   "id": "ae865af7-98bb-47e6-b1e5-068f97332b3f",
   "metadata": {},
   "outputs": [],
   "source": [
    "#assigning 2 var's\n",
    "\n",
    "x,y=10,20\n"
   ]
  },
  {
   "cell_type": "code",
   "execution_count": 24,
   "id": "b327f3f1-dec9-46c8-b1ec-2d936ee724e4",
   "metadata": {},
   "outputs": [
    {
     "name": "stdout",
     "output_type": "stream",
     "text": [
      " Before Swapping : \n",
      " x: 10  y: 20\n"
     ]
    }
   ],
   "source": [
    "print(\" Before Swapping : \\n x:\",x,\" y:\",y)"
   ]
  },
  {
   "cell_type": "code",
   "execution_count": 25,
   "id": "d32b0776-eac2-482b-bc64-35df98a7dc8f",
   "metadata": {},
   "outputs": [],
   "source": [
    "#assign x value to y \n",
    "y-=x"
   ]
  },
  {
   "cell_type": "code",
   "execution_count": 26,
   "id": "0c806006-c58a-4a71-9914-64f1d6060c94",
   "metadata": {},
   "outputs": [
    {
     "data": {
      "text/plain": [
       "10"
      ]
     },
     "execution_count": 26,
     "metadata": {},
     "output_type": "execute_result"
    }
   ],
   "source": [
    "y"
   ]
  },
  {
   "cell_type": "code",
   "execution_count": 27,
   "id": "501fa427-70b9-48c6-9835-3d61238fad08",
   "metadata": {},
   "outputs": [],
   "source": [
    "#add updated value of y to x\n",
    "x += y"
   ]
  },
  {
   "cell_type": "code",
   "execution_count": 28,
   "id": "3a0f4f24-90b9-49ae-9c30-540730733d8a",
   "metadata": {},
   "outputs": [
    {
     "data": {
      "text/plain": [
       "20"
      ]
     },
     "execution_count": 28,
     "metadata": {},
     "output_type": "execute_result"
    }
   ],
   "source": [
    "x"
   ]
  },
  {
   "cell_type": "code",
   "execution_count": 29,
   "id": "ad2273fd-776e-4a44-a0ca-e8edaeb95f4f",
   "metadata": {},
   "outputs": [
    {
     "name": "stdout",
     "output_type": "stream",
     "text": [
      "After swapping x & y values \n",
      "  x : 20  y: 10\n"
     ]
    }
   ],
   "source": [
    "print(\"After swapping x & y values \\n  x :\",x,\" y:\",y)"
   ]
  },
  {
   "cell_type": "code",
   "execution_count": 30,
   "id": "544702e0-35c8-4ce6-9f04-2792471a5910",
   "metadata": {},
   "outputs": [],
   "source": [
    "#19th august assignment "
   ]
  },
  {
   "cell_type": "markdown",
   "id": "89687992-134d-4a86-8568-23ea9304cb44",
   "metadata": {},
   "source": [
    "Q2.\n",
    "Create a program that calculates the area of a rectangle. \n",
    "Take the length and width as inputs from the user and store them in variables.\n",
    "Calculate and  display the area.\n"
   ]
  },
  {
   "cell_type": "code",
   "execution_count": 35,
   "id": "f8504d87-b0c4-4660-9b1c-c0a87e1ff806",
   "metadata": {},
   "outputs": [],
   "source": [
    "#assign length and width for rectangle "
   ]
  },
  {
   "cell_type": "code",
   "execution_count": 40,
   "id": "b02915b8-ce2d-4818-990a-4cc66349d84e",
   "metadata": {},
   "outputs": [
    {
     "name": "stdin",
     "output_type": "stream",
     "text": [
      "Enter length of rectangle 10\n",
      "Enter width of rectangle 20\n"
     ]
    }
   ],
   "source": [
    "length_rectangle = int(input(\"Enter length of rectangle\"))\n",
    "width_rectangle  = int(input(\"Enter width of rectangle\"))"
   ]
  },
  {
   "cell_type": "code",
   "execution_count": 38,
   "id": "94cc614a-593d-4a4e-8169-86afb8ad5062",
   "metadata": {},
   "outputs": [],
   "source": [
    "# area of rectangle = length * width"
   ]
  },
  {
   "cell_type": "code",
   "execution_count": 42,
   "id": "6c24a85a-b96c-478a-b007-bed4e4faf14a",
   "metadata": {},
   "outputs": [],
   "source": [
    "area_rectangle =  length_rectangle * width_rectangle  "
   ]
  },
  {
   "cell_type": "code",
   "execution_count": 43,
   "id": "8ab74908-23f8-4e54-b473-38aeec03cbc5",
   "metadata": {},
   "outputs": [
    {
     "name": "stdout",
     "output_type": "stream",
     "text": [
      "Area  of  Rectangle is : 200\n"
     ]
    }
   ],
   "source": [
    "print(\"Area  of  Rectangle is :\",area_rectangle)"
   ]
  },
  {
   "cell_type": "markdown",
   "id": "c9bd8d4a-3a05-464d-a7a0-6f1eb146c46f",
   "metadata": {},
   "source": [
    "Q3.\n",
    "Write a Python program that converts temperatures from Celsius to\n",
    "Fahrenheit.\n",
    "Take the temperature in Celsius as input, store it in a variable,\n",
    "convert it to Fahrenheit, and display the result."
   ]
  },
  {
   "cell_type": "code",
   "execution_count": 45,
   "id": "98db25bc-e716-4926-af52-9f9236f8e152",
   "metadata": {},
   "outputs": [],
   "source": [
    " # formula :  \n",
    "#            °F = (°C × 9/5) + 32 "
   ]
  },
  {
   "cell_type": "code",
   "execution_count": 46,
   "id": "7259a992-d22a-46ff-82aa-9bf1788213c9",
   "metadata": {},
   "outputs": [],
   "source": [
    "# 2 values  °F & °C  as input"
   ]
  },
  {
   "cell_type": "code",
   "execution_count": 49,
   "id": "adaa2638-8b0a-44d3-96ed-0d78db21eed8",
   "metadata": {},
   "outputs": [
    {
     "name": "stdin",
     "output_type": "stream",
     "text": [
      "Enter the temperature in celcius 35\n"
     ]
    }
   ],
   "source": [
    "Celcius = float(input(\"Enter the temperature in celcius\"))"
   ]
  },
  {
   "cell_type": "code",
   "execution_count": 50,
   "id": "ec0952e3-1221-4ad8-a266-b823ee54d13a",
   "metadata": {},
   "outputs": [
    {
     "data": {
      "text/plain": [
       "35.0"
      ]
     },
     "execution_count": 50,
     "metadata": {},
     "output_type": "execute_result"
    }
   ],
   "source": [
    "Celcius"
   ]
  },
  {
   "cell_type": "code",
   "execution_count": 51,
   "id": "6ebc1a1d-d6a1-4f1d-bdb8-dd63ca4e2e15",
   "metadata": {},
   "outputs": [],
   "source": [
    "Farenheit = (Celcius*9/5) + 32"
   ]
  },
  {
   "cell_type": "code",
   "execution_count": 52,
   "id": "0f1a8fca-14b6-4e60-991f-4edccb712bdb",
   "metadata": {},
   "outputs": [
    {
     "data": {
      "text/plain": [
       "95.0"
      ]
     },
     "execution_count": 52,
     "metadata": {},
     "output_type": "execute_result"
    }
   ],
   "source": [
    "Farenheit "
   ]
  },
  {
   "cell_type": "code",
   "execution_count": 64,
   "id": "cc7dc83a-e691-478d-9db8-52833fb782f3",
   "metadata": {},
   "outputs": [
    {
     "name": "stdout",
     "output_type": "stream",
     "text": [
      "35.00  Celcius (°C) equivalent to: 95.00 Farenheit (°F) \n"
     ]
    }
   ],
   "source": [
    "print('%.2f  Celcius (°C) equivalent to: %.2f Farenheit (°F) '\n",
    "          % (Celcius,Farenheit ))"
   ]
  },
  {
   "cell_type": "markdown",
   "id": "e2f6deb4-66ef-423a-8415-f03ed691a04e",
   "metadata": {},
   "source": [
    "                    ------------II . STRING BASED QUESTIONS----------------"
   ]
  },
  {
   "cell_type": "markdown",
   "id": "b7f98f20-6ba7-4888-bdde-20b7b0689e9d",
   "metadata": {},
   "source": [
    "Q4. Write a Python program that takes a string as input and prints the length of the string."
   ]
  },
  {
   "cell_type": "code",
   "execution_count": 68,
   "id": "858c97a6-52b6-4b1c-a820-120fe779eaf8",
   "metadata": {},
   "outputs": [
    {
     "name": "stdin",
     "output_type": "stream",
     "text": [
      "enter the string value: I'm Saipavan\n"
     ]
    }
   ],
   "source": [
    "str1 = input(\"enter the string value:\")"
   ]
  },
  {
   "cell_type": "code",
   "execution_count": 69,
   "id": "33292625-8910-4f5d-af9a-d6ae64eda12d",
   "metadata": {},
   "outputs": [],
   "source": [
    "# \" len()\"  , length of particular string can be determined \n"
   ]
  },
  {
   "cell_type": "code",
   "execution_count": 71,
   "id": "aa46e676-10a8-4dde-b779-7c24bf55f192",
   "metadata": {},
   "outputs": [
    {
     "data": {
      "text/plain": [
       "12"
      ]
     },
     "execution_count": 71,
     "metadata": {},
     "output_type": "execute_result"
    }
   ],
   "source": [
    "len(str1)"
   ]
  },
  {
   "cell_type": "markdown",
   "id": "04a502ef-9cee-4f63-84c1-b8e5499f024f",
   "metadata": {},
   "source": [
    "Q5. Create a program that takes a sentence from the user and counts\n",
    "the number of vowels (a, e, i, o, u) in the string."
   ]
  },
  {
   "cell_type": "code",
   "execution_count": 72,
   "id": "9b270501-9751-41ed-a8fd-2fe27ce4fc67",
   "metadata": {},
   "outputs": [],
   "source": [
    "# in keyword is used to check weather value is present in string , dictionary & lists\n"
   ]
  },
  {
   "cell_type": "code",
   "execution_count": 73,
   "id": "7cce64e7-01e7-4b65-b2e9-940b498fe572",
   "metadata": {},
   "outputs": [
    {
     "name": "stdin",
     "output_type": "stream",
     "text": [
      "Please Enter Your Own String :  SAIPAVAN\n"
     ]
    }
   ],
   "source": [
    "str1 = input(\"Please Enter Your Own String : \")\n",
    "vowels = 0"
   ]
  },
  {
   "cell_type": "code",
   "execution_count": 74,
   "id": "feb1265d-e7ca-4abb-ac85-23020c49a536",
   "metadata": {},
   "outputs": [],
   "source": [
    "\n",
    "for i in str1:\n",
    "    if(i == 'a' or i == 'e' or i == 'i' or i == 'o' or i == 'u' or i == 'A'\n",
    "       or i == 'E' or i == 'I' or i == 'O' or i == 'U'):\n",
    "        \n",
    "        vowels = vowels + 1\n",
    " "
   ]
  },
  {
   "cell_type": "code",
   "execution_count": 75,
   "id": "1993779c-e274-48ac-b12f-65bfd5103c09",
   "metadata": {},
   "outputs": [
    {
     "name": "stdout",
     "output_type": "stream",
     "text": [
      "Total Number of Vowels in this String =  4\n"
     ]
    }
   ],
   "source": [
    "print(\"Total Number of Vowels in this String = \", vowels)"
   ]
  },
  {
   "cell_type": "markdown",
   "id": "65426a05-5d43-4517-a599-76a53d9ae00c",
   "metadata": {},
   "source": [
    "Q3. Given a string, reverse the order of characters using string slicing\n",
    "and print  the reversed string."
   ]
  },
  {
   "cell_type": "code",
   "execution_count": 76,
   "id": "e074806f-c936-40a7-98b0-505537d66880",
   "metadata": {},
   "outputs": [
    {
     "name": "stdin",
     "output_type": "stream",
     "text": [
      " Enter the String : Hauser XO\n"
     ]
    }
   ],
   "source": [
    "str2 = input(\" Enter the String :\")"
   ]
  },
  {
   "cell_type": "code",
   "execution_count": 77,
   "id": "62b8ec70-668f-4b2b-b27a-1101f6c556c0",
   "metadata": {},
   "outputs": [
    {
     "name": "stdout",
     "output_type": "stream",
     "text": [
      "Original String is :  Hauser XO\n"
     ]
    }
   ],
   "source": [
    "print(\"Original String is : \",str2)"
   ]
  },
  {
   "cell_type": "code",
   "execution_count": 79,
   "id": "4fbcf72c-d816-4208-b0b5-753ff98344a5",
   "metadata": {},
   "outputs": [
    {
     "name": "stdout",
     "output_type": "stream",
     "text": [
      "Length of string is : 9\n"
     ]
    }
   ],
   "source": [
    "length_str2 = len(str2)\n",
    "print(\"Length of string is :\",length_str2)"
   ]
  },
  {
   "cell_type": "code",
   "execution_count": 80,
   "id": "a0810cfb-3035-4536-b60a-1f9c3a986e5e",
   "metadata": {},
   "outputs": [],
   "source": [
    "#using slicing string_var[start:last:step]"
   ]
  },
  {
   "cell_type": "code",
   "execution_count": 86,
   "id": "7ee2559e-75c7-49d6-80dd-7b4430f54bca",
   "metadata": {},
   "outputs": [
    {
     "data": {
      "text/plain": [
       "'Hauser XO'"
      ]
     },
     "execution_count": 86,
     "metadata": {},
     "output_type": "execute_result"
    }
   ],
   "source": [
    "str2[:9]"
   ]
  },
  {
   "cell_type": "code",
   "execution_count": 96,
   "id": "ca413fed-d03e-42ad-acde-fa053e3196b5",
   "metadata": {},
   "outputs": [
    {
     "name": "stdout",
     "output_type": "stream",
     "text": [
      "Reverse of string : Hauser XO \n",
      "- is :  OX resuaH\n"
     ]
    }
   ],
   "source": [
    "reverse_str2 = str2[-1:-10:-1]\n",
    "print(\"Reverse of string :\",str2,\"\\n- is : \",reverse_str2)"
   ]
  },
  {
   "cell_type": "code",
   "execution_count": null,
   "id": "d1fc5648-7bbb-4c81-9e9d-b89a5beaa9a0",
   "metadata": {},
   "outputs": [],
   "source": []
  },
  {
   "cell_type": "markdown",
   "id": "9a349e42-92fe-49ba-8653-0bb678357613",
   "metadata": {},
   "source": [
    "Q4. Write a program that takes a string as input and checks if it is a palindrome"
   ]
  },
  {
   "cell_type": "code",
   "execution_count": 30,
   "id": "39166b56-c6be-491c-a540-2b62bf23eb57",
   "metadata": {
    "tags": []
   },
   "outputs": [
    {
     "name": "stdout",
     "output_type": "stream",
     "text": [
      "Before palindrome : malayalam\n"
     ]
    }
   ],
   "source": [
    "x = \"malayalam\"\n",
    " \n",
    "w = \"\"\n",
    "\n",
    "print(\"Before palindrome :\",x)\n"
   ]
  },
  {
   "cell_type": "code",
   "execution_count": 31,
   "id": "63af1fc6-4e39-453b-a234-95021c03fc52",
   "metadata": {},
   "outputs": [],
   "source": [
    "for i in x[-1:-10:-1]:\n",
    "        w = i + w"
   ]
  },
  {
   "cell_type": "code",
   "execution_count": 32,
   "id": "54defa13-04e9-4537-92a3-6caf1d603aa4",
   "metadata": {},
   "outputs": [],
   "source": [
    "# the string should be same as revese of string \n",
    "# then it is a PALINDROME "
   ]
  },
  {
   "cell_type": "code",
   "execution_count": 33,
   "id": "2da0b3c3-df52-4844-9234-e4e361eb59b1",
   "metadata": {},
   "outputs": [
    {
     "name": "stdout",
     "output_type": "stream",
     "text": [
      "Yes , String is a Palindrome\n"
     ]
    }
   ],
   "source": [
    "if (x == w):\n",
    "    print(\"Yes , String is a Palindrome\")\n",
    "    \n",
    "else:\n",
    "    print(\"No , String is not a Palindrome\")"
   ]
  },
  {
   "cell_type": "code",
   "execution_count": null,
   "id": "d06ee05c-c246-40de-a0d7-b1ee75f55098",
   "metadata": {},
   "outputs": [],
   "source": []
  },
  {
   "cell_type": "markdown",
   "id": "1431e188-03b3-4992-8b41-7b8bdc4c9d20",
   "metadata": {},
   "source": [
    "Q5.  CREATE A PROGRAM THAT TAKES STRING AS AN INPUT AND REMOVE ALL SPACES FROM IT .\n",
    "PRINNT THE MODIFIED STRING WITHOUT SPACES ."
   ]
  },
  {
   "cell_type": "code",
   "execution_count": 40,
   "id": "411fc129-8401-4753-aed8-b245bd4a71ed",
   "metadata": {},
   "outputs": [
    {
     "name": "stdout",
     "output_type": "stream",
     "text": [
      "string with spaces\n"
     ]
    }
   ],
   "source": [
    "str3 =\"S A I P A V  A N\"\n",
    "print(\"string with spaces\")"
   ]
  },
  {
   "cell_type": "code",
   "execution_count": 43,
   "id": "9198664c-3009-4da1-9a59-44cd9e5aee28",
   "metadata": {},
   "outputs": [
    {
     "name": "stdout",
     "output_type": "stream",
     "text": [
      "string without spaces: SAIPAVAN\n"
     ]
    }
   ],
   "source": [
    "new_str3=str3.replace(\" \", \"\")\n",
    "print(\"string without spaces:\",new_str3)\n"
   ]
  },
  {
   "cell_type": "code",
   "execution_count": null,
   "id": "34e64625-df09-4b86-a0e2-b4f5b8ec732d",
   "metadata": {},
   "outputs": [],
   "source": []
  }
 ],
 "metadata": {
  "kernelspec": {
   "display_name": "Python 3 (ipykernel)",
   "language": "python",
   "name": "python3"
  },
  "language_info": {
   "codemirror_mode": {
    "name": "ipython",
    "version": 3
   },
   "file_extension": ".py",
   "mimetype": "text/x-python",
   "name": "python",
   "nbconvert_exporter": "python",
   "pygments_lexer": "ipython3",
   "version": "3.10.8"
  }
 },
 "nbformat": 4,
 "nbformat_minor": 5
}
