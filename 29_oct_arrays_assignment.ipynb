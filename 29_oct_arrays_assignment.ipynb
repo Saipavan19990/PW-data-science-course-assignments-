{
 "cells": [
  {
   "cell_type": "markdown",
   "metadata": {},
   "source": [
    "1. Given an array, check if it contains any duplicates or not\n",
    "\n",
    "    arr = [1, 2, 4, 2, 5, 9]\n",
    "    Output = True"
   ]
  },
  {
   "cell_type": "code",
   "execution_count": 1,
   "metadata": {},
   "outputs": [
    {
     "name": "stdout",
     "output_type": "stream",
     "text": [
      "True\n"
     ]
    }
   ],
   "source": [
    "def contains_duplicates(arr):\n",
    "    counts = {}         # using dict because elemnts automatically add the elements in dictionary as the loop progress\n",
    "    for num in arr:\n",
    "        if num in counts:\n",
    "            return True\n",
    "        counts[num] = 1\n",
    "    return False\n",
    "\n",
    "arr = [1, 2, 4, 2, 5, 9]\n",
    "print(contains_duplicates(arr))  # Output: True\n",
    "\n",
    "#Time complexity: O(n)\n",
    "#space complexity: O(n)\n"
   ]
  },
  {
   "cell_type": "markdown",
   "metadata": {},
   "source": [
    "2. Given an array and an integer k, rotate the array to the right by k steps.\n",
    "\n",
    "    arr = [1, 2, 3, 4, 5, 6, 7] k = 3\n",
    "\n",
    "    Output = [5, 6, 7, 1, 2, 3, 4]"
   ]
  },
  {
   "cell_type": "code",
   "execution_count": 15,
   "metadata": {},
   "outputs": [
    {
     "name": "stdout",
     "output_type": "stream",
     "text": [
      "3\n",
      "[5, 6, 7, 1, 2, 3, 4]\n"
     ]
    }
   ],
   "source": [
    "def rotate_array(arr, k):\n",
    "    n = len(arr)\n",
    "    k = k % n\n",
    "    print(k)\n",
    "\n",
    "    # Reverse the entire array\n",
    "    arr.reverse()\n",
    "\n",
    "    # Reverse the first k elements\n",
    "    arr[:k] = reversed(arr[:k])\n",
    "\n",
    "    # Reverse the remaining n-k elements\n",
    "    arr[k:] = reversed(arr[k:])\n",
    "\n",
    "    return arr\n",
    "\n",
    "arr = [1, 2, 3, 4, 5, 6, 7]\n",
    "k = 3\n",
    "print(rotate_array(arr, k))  # Output: [5, 6, 7, 1, 2, 3, 4]\n"
   ]
  },
  {
   "cell_type": "markdown",
   "metadata": {},
   "source": [
    "3. Reverse the given array in-place, means without using\n",
    "     any extra data structure.\n",
    "arr = [2, 4, 5, 7, 9, 12]\n",
    "Output = [12, 9, 7, 5, 4, 2]"
   ]
  },
  {
   "cell_type": "code",
   "execution_count": 38,
   "metadata": {},
   "outputs": [
    {
     "name": "stdout",
     "output_type": "stream",
     "text": [
      "[12, 9, 7, 5, 4, 2]\n"
     ]
    }
   ],
   "source": [
    "\n",
    "\n",
    "def reverse_swap(arr):\n",
    "    right=len(arr)-1\n",
    "    left = 0    # pointer on last and first element for swapping \n",
    "\n",
    "    while(right>left):       #till both elements meet each other \n",
    "        arr[left], arr[right] = arr[right],arr[left]\n",
    "        left+=1\n",
    "        right-=1\n",
    "        \n",
    "        \n",
    "        \n",
    "arr=[2,4,5,7,9,12]\n",
    "reverse_swap(arr)\n",
    "print(arr)"
   ]
  },
  {
   "cell_type": "markdown",
   "metadata": {},
   "source": [
    "4. Given an array of integers, \n",
    "    find the maximum element in an array\n",
    "\n",
    "    arr = [10, 5, 20, 8, 15]\n",
    "\n",
    "    Output = 20"
   ]
  },
  {
   "cell_type": "code",
   "execution_count": 46,
   "metadata": {},
   "outputs": [
    {
     "name": "stdout",
     "output_type": "stream",
     "text": [
      "20\n"
     ]
    }
   ],
   "source": [
    "\n",
    "\n",
    "def find_maxelement(arr):\n",
    "    max_element=arr[0]\n",
    "    for num in arr:\n",
    "        if num > max_element:\n",
    "            max_element = num \n",
    "    return max_element\n",
    "        \n",
    "arr3=[10,5,20,8,15]\n",
    "print(find_maxelement(arr3))\n"
   ]
  },
  {
   "cell_type": "markdown",
   "metadata": {},
   "source": [
    "5.  Given a sorted array, remove the duplicate element \n",
    "without using any extra data structure.\n",
    "\n",
    "arr = [1, 1, 2, 2, 2, 3, 3, 4, 4, 4, 5, 5]\n",
    "Output = [1, 2, 3, 4, 5]"
   ]
  },
  {
   "cell_type": "code",
   "execution_count": null,
   "metadata": {},
   "outputs": [],
   "source": [
    "def remove_duplicates(arr):\n",
    "    if len(arr) == 0:       # check for empty index \n",
    "        return arr\n",
    "\n",
    "    write_index = 0  # Initialize the write index\n",
    "\n",
    "    for read_index in range(1, len(arr)):\n",
    "        if arr[read_index] != arr[write_index]:\n",
    "            write_index += 1\n",
    "            arr[write_index] = arr[read_index]\n",
    "\n",
    "    return arr[:write_index + 1]\n",
    "\n",
    "arr = [1, 1, 2, 2, 2, 3, 3, 4, 4, 4, 5, 5]\n",
    "print(remove_duplicates(arr))  # Output: [1, 2, 3, 4, 5]\n"
   ]
  }
 ],
 "metadata": {
  "kernelspec": {
   "display_name": "Python 3",
   "language": "python",
   "name": "python3"
  },
  "language_info": {
   "codemirror_mode": {
    "name": "ipython",
    "version": 3
   },
   "file_extension": ".py",
   "mimetype": "text/x-python",
   "name": "python",
   "nbconvert_exporter": "python",
   "pygments_lexer": "ipython3",
   "version": "3.11.1"
  }
 },
 "nbformat": 4,
 "nbformat_minor": 2
}
